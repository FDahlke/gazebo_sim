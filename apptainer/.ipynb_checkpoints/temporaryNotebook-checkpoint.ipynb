{
 "cells": [
  {
   "cell_type": "code",
   "execution_count": 2,
   "id": "43f8599e",
   "metadata": {},
   "outputs": [],
   "source": [
    "import time\n",
    "import math\n",
    "\n",
    "import numpy as np\n",
    "\n",
    "from swarm import Swarm\n",
    "\n"
   ]
  },
  {
   "cell_type": "code",
   "execution_count": 13,
   "id": "eaf0ad17",
   "metadata": {},
   "outputs": [],
   "source": [
    "import time\n",
    "\n",
    "from subprocess import Popen,PIPE,run\n",
    "\n",
    "process = Popen(['gz','sim', '../worlds/RHEA_swarm_DenseForest.sdf', '-r','-s'], stdout=PIPE, stderr=PIPE)\n",
    "\n",
    "time.sleep(15)"
   ]
  },
  {
   "cell_type": "code",
   "execution_count": 14,
   "id": "640f6af4",
   "metadata": {},
   "outputs": [],
   "source": [
    "NUM_DRONES = 5\n",
    "\n",
    "AREA_SIZE_X = 100\n",
    "AREA_SIZE_Y = 100\n",
    "GRID_SIZE = 100           # Size of the Forest\n",
    "\n",
    "CAMERA_FOV_DEGREE = 50\n",
    "IMAGE_SIZE = 512 #How many Scanning points each image has per Row (Images are 512x512)\n",
    "\n",
    "MOVE_DISTANCE = 1       # How far a Drone can move each Timestep\n",
    "DRONE_HEIGHT = 35\n",
    "\n",
    "POPULATION_SIZE = 10\n",
    "NUM_GENERATIONS = 2\n",
    "MUTATION_RATE = 0.1\n",
    "\n",
    "INITIAL_VISIBILITY =0.5"
   ]
  },
  {
   "cell_type": "code",
   "execution_count": 15,
   "id": "4ec7944c",
   "metadata": {},
   "outputs": [],
   "source": [
    "grid_offset=GRID_SIZE/2\n",
    "\n",
    "camera_fov=np.deg2rad(CAMERA_FOV_DEGREE)\n",
    "camera_offset= 35 * np.tan(camera_fov/2)\n",
    "\n",
    "prob_array_size= int(np.ceil((GRID_SIZE*512)/(camera_offset*2)))"
   ]
  },
  {
   "cell_type": "code",
   "execution_count": 16,
   "id": "74ad0d99",
   "metadata": {},
   "outputs": [],
   "source": [
    "ShouldPrint=False"
   ]
  },
  {
   "cell_type": "code",
   "execution_count": 17,
   "id": "33ccc2a3",
   "metadata": {},
   "outputs": [],
   "source": [
    "def getProbabilityGrid(Last_Known_Position, sigma):\n",
    "    #Create Target Probability Grid\n",
    "    x = np.linspace(-grid_offset, grid_offset, prob_array_size)\n",
    "    y = np.linspace(-grid_offset, grid_offset, prob_array_size)\n",
    "    x, y = np.meshgrid(x, y)\n",
    "\n",
    "    prob_density = (1 / (np.sqrt(2 * np.pi)* sigma)) * np.exp(-((x - Last_Known_Position[0])**2 + (y - Last_Known_Position[1])**2) / (2 * sigma**2))\n",
    "\n",
    "    return prob_density,x,y"
   ]
  },
  {
   "cell_type": "code",
   "execution_count": null,
   "id": "fffdddff",
   "metadata": {},
   "outputs": [],
   "source": []
  },
  {
   "cell_type": "code",
   "execution_count": 18,
   "id": "76b98342",
   "metadata": {},
   "outputs": [],
   "source": [
    "#return percentage of ground visible (depth>34meter)\n",
    "def check_ground_visibility(depth_image):\n",
    "    number_visible_ground=0\n",
    "    for i in depth_image:\n",
    "        for j in i:\n",
    "            if j[0]>3400:\n",
    "                number_visible_ground= number_visible_ground+1\n",
    "    return number_visible_ground/(512**2)\n",
    " \n",
    "def update_Target_Position():\n",
    "    if Target_Position[0]<25:\n",
    "        Target_Position = Target_Position + [0.5,0.5]"
   ]
  },
  {
   "cell_type": "code",
   "execution_count": null,
   "id": "a79f9ff8",
   "metadata": {},
   "outputs": [],
   "source": []
  },
  {
   "cell_type": "markdown",
   "id": "bdd37469",
   "metadata": {},
   "source": [
    "Initialization of Drones and Solution Populations"
   ]
  },
  {
   "cell_type": "code",
   "execution_count": 19,
   "id": "e97ceb68",
   "metadata": {},
   "outputs": [
    {
     "name": "stdout",
     "output_type": "stream",
     "text": [
      "Subscribed successfully\n",
      "Test\n"
     ]
    }
   ],
   "source": [
    "#Spawn Drones and move to initial position\n",
    "\n",
    "# Create the swarm object by passing the name\n",
    "# of the world from the .sdf world file.\n",
    "swarm = Swarm(\"rhea_swarm\")\n",
    "\n",
    "print(\"Test\")\n",
    "\n",
    "# Spawn X drones and keep the returning ids as handles\n",
    "#ids = swarm.spawn(NUM_DRONES)\n",
    "ids = swarm.spawn(NUM_DRONES*POPULATION_SIZE)\n",
    "\n",
    "#Initialize Target Position\n",
    "Target_Position =np.array([20,15])\n",
    "Last_Known_Position = Target_Position\n",
    "\n",
    "# First waypoints\n",
    "waypoints = np.empty((0,3),float)\n",
    "for i in range (NUM_DRONES):\n",
    "    waypoints= np.append(waypoints,np.array([[math.ceil(i-(NUM_DRONES/2)),0.0,DRONE_HEIGHT]]), axis=0)\n",
    "\n",
    "#create Initial\n",
    "#swarm.waypoints(ids, waypoints)\n",
    "\n",
    "#Visibility by Coordiantes File:\n",
    "grid_visibility = np.full((AREA_SIZE_X,AREA_SIZE_Y), INITIAL_VISIBILITY)\n",
    "\n",
    "#Create Target Probability Grid\n",
    "sigma= 10\n",
    "\n",
    "prob_density,x,y = getProbabilityGrid(Last_Known_Position,sigma)\n",
    "\n",
    "#print(prob_density)\n"
   ]
  },
  {
   "cell_type": "code",
   "execution_count": 20,
   "id": "2c16eb50",
   "metadata": {},
   "outputs": [],
   "source": [
    "#Create \"Base Grid\"\n",
    "#by Calculating distance between each scanning point at DRONE_HEIGHT\n",
    "\n",
    "#Gives Coordinates based on drone position and scan pixel\n",
    "def calculate_world_coordinates(drone_pos, image_radius, img_x, img_y):\n",
    "    pos_x = drone_pos[0] + (img_x-256)/512 * image_radius * 2\n",
    "    pos_y = drone_pos[1] + (img_y-256)/512 * image_radius * 2\n",
    "    return (pos_x, pos_y)\n",
    "\n",
    "\n",
    "    return array_width,array_height\n",
    "def getOverlapArray(waypoints,offset,img_width=512,img_height=512):\n",
    "    \n",
    "    global targetSeen\n",
    "    global lastSeenAt\n",
    "    targetSeen = False\n",
    "    #TODO change MinX to value instead of array,its probably not needed \n",
    "    MinX = [0,float('inf')]\n",
    "    MaxX = [0,float('-inf')]\n",
    "    MinY = [0,float('inf')]\n",
    "    MaxY = [0,float('-inf')]\n",
    "    \n",
    "    for i in range(len(waypoints)):\n",
    "        x = waypoints[i][0]\n",
    "        y = waypoints[i][1]\n",
    "        #Determine the Minimum X,Y and Maximum X,Y of the sampling positions and saves which drone\n",
    "        if (x < MinX[1]):\n",
    "            MinX = [i, x]\n",
    "        if (x > MaxX[1]):\n",
    "            MaxX = [i, x]\n",
    "        if (y < MinY[1]):\n",
    "            MinY = [i, y]\n",
    "        if (y > MaxY[1]):\n",
    "            MaxY = [i, y]\n",
    "    \n",
    "    MinX[1] = calculate_world_coordinates(waypoints[MinX[0]], camera_offset, 0,0)[0]\n",
    "    MaxX[1] = calculate_world_coordinates(waypoints[MaxX[0]], camera_offset, img_width,img_height)[0]\n",
    "    MinY[1] = calculate_world_coordinates(waypoints[MinY[0]], camera_offset, 0,0)[1]\n",
    "    MaxY[1] = calculate_world_coordinates(waypoints[MaxY[0]], camera_offset, img_width, img_height)[1]  \n",
    "    \n",
    "    #gets the needed width/height of the array based on the distance between smallest and largest X/Y Value, rounding up\n",
    "    array_width = int(np.ceil(((MaxX[1]-MinX[1])*img_width)/(camera_offset*2)))\n",
    "    array_height = int(np.ceil(((MaxY[1]-MinY[1])*img_height)/(camera_offset*2)))\n",
    "\n",
    "    #fills the array with zeroes\n",
    "    visibility_array = np.zeros((int(array_width), (int(array_height))))\n",
    "    \n",
    "    visibility_threshold= 3400 #once depth is higher than this value, the ground counts as seen\n",
    "    \n",
    "    #adds 1/NUM_DRONES if the point is seen\n",
    "    for id in range(len(waypoints)):\n",
    "        for i in range(img_width):\n",
    "            for j in range(img_height):\n",
    "                if swarm.depth_images[id+(offset*NUM_DRONES)][i][j][0] > visibility_threshold:\n",
    "                    world_x, world_y = calculate_world_coordinates(waypoints[id], camera_offset, j, i)\n",
    "                    world_x_idx = int(((world_x - MinX[1]) / (MaxX[1] - MinX[1])) * array_width)\n",
    "                    world_y_idx = int(((world_y - MinY[1]) / (MaxY[1] - MinY[1])) * array_height)\n",
    "                    \n",
    "                    if 0 <= world_x_idx < array_width and 0 <= world_y_idx < array_height:\n",
    "                        visibility_array[world_x_idx][world_y_idx] += 1/NUM_DRONES\n",
    "                    \n",
    "                        #if a seen ground Tile is within 0.3 meters of the real target, it counts as seen\n",
    "                        #\n",
    "                        #if (distance.euclidean([world_x,world_y], Target_Position)<=0.3) and visibility_array[world_x_idx][world_y_idx]>0.5:\n",
    "                        if (numpy.lonalg.norm(world_x,world_y-Target_Position)<=0.3) and visibility_array[world_x_idx][world_y_idx]>0.5:\n",
    "                            targetSeen = True\n",
    "                            lastSeenAt = [world_x,world_y]\n",
    "                            #print([world_x,world_y],Target_Position)\n",
    "    \n",
    "    \n",
    "    #gets the corner of the visibility array, so correct overlap with probability array can be calculated\n",
    "\n",
    "    visibility_offset_x=int(((MinX[1]+grid_offset)/GRID_SIZE)*prob_array_size)\n",
    "    visibility_offset_y=int(((MinY[1]+grid_offset)/GRID_SIZE)*prob_array_size)\n",
    "    \n",
    "    visibility_offset=[visibility_offset_x,visibility_offset_y]\n",
    "    return visibility_array, visibility_offset\n",
    "    \n"
   ]
  },
  {
   "cell_type": "code",
   "execution_count": 21,
   "id": "7dbad771",
   "metadata": {},
   "outputs": [],
   "source": [
    "#print(swarm.depth_images[1])\n",
    "#print(check_ground_visibility(swarm.depth_images[1]))\n"
   ]
  },
  {
   "cell_type": "code",
   "execution_count": 22,
   "id": "d3428447",
   "metadata": {},
   "outputs": [],
   "source": [
    "# Problem classes\n",
    "from pymoo.core.problem import Problem, ElementwiseProblem\n",
    "from pymoo.optimize import minimize\n",
    "\n",
    "# Algorithmss\n",
    "from pymoo.algorithms.soo.nonconvex.de import DE\n",
    "\n",
    "# Survival operators\n",
    "from pymoo.operators.sampling.lhs import LHS"
   ]
  },
  {
   "cell_type": "code",
   "execution_count": 23,
   "id": "ff75aec5",
   "metadata": {},
   "outputs": [],
   "source": [
    "global lastSeenAt\n",
    "global targetSeen\n",
    "lastSeenAt = [0,0]\n",
    "targetSeen = False"
   ]
  },
  {
   "cell_type": "code",
   "execution_count": 24,
   "id": "657bd629",
   "metadata": {},
   "outputs": [],
   "source": [
    "def scoreThatThing(prob_density,visibility_grid,visibility_offset):\n",
    "    \n",
    "    #scoring_array=np.array(prob_density)\n",
    "    if ShouldPrint:\n",
    "        print(f\"Prob_density {prob_density},\\n\\n visibility_grid: {visibility_grid},\\n\\n offset: {visibility_offset}\")\n",
    "        print(f\"Prob_size: {np.shape(prob_density)}\")\n",
    "    scoring_array=np.zeros(prob_density.shape)\n",
    "    score=0\n",
    "    \n",
    "    #print(\"Visibility grid in scoring: \", visibility_grid.shape)\n",
    "    \n",
    "    for i in range(visibility_grid.shape[0]):\n",
    "        for j in range(visibility_grid.shape[1]):\n",
    "            scoring_array[i+visibility_offset[0]][j+visibility_offset[1]]=prob_density[i+visibility_offset[0]][j+visibility_offset[1]]*visibility_grid[i][j]\n",
    "            \n",
    "            #only add score if half the drones see square\n",
    "            if visibility_grid[i][j]>=0.5:\n",
    "                score+=scoring_array[i+visibility_offset[0]][j+visibility_offset[1]]\n",
    "                \n",
    "    #plt.imshow(scoring_array, cmap='gray')\n",
    "    #plt.show()\n",
    "    return score"
   ]
  },
  {
   "cell_type": "code",
   "execution_count": 25,
   "id": "ca59fd17",
   "metadata": {},
   "outputs": [],
   "source": [
    "class MyProblem(Problem):\n",
    "\n",
    "    def __init__(self, grid_size, n_drones, n_steps,waypoints,prob_density):\n",
    "        \n",
    "        self.grid_size = grid_size\n",
    "        self.n_drones = n_drones\n",
    "        n_var=2*n_drones\n",
    "        self.n_steps = n_steps\n",
    "        \n",
    "        self.waypoints = waypoints\n",
    "        self.prob_density = prob_density\n",
    "        \n",
    "        super().__init__(\n",
    "            n_var=n_var,  # Variables in the solutions (x,y)\n",
    "            n_obj=1,      # Number of Objectives we wanna optimize\n",
    "            n_constr=0,   # No additional constraints, TODO: add no crashing into eachother\n",
    "            xl=0,      # Lower boundaries of solution variables\n",
    "            xu=1,       # Upper bounds of solution vars\n",
    "        )    \n",
    "\n",
    "        #x are the waypoints\n",
    "    def _evaluate(self, x, out, *args, **kwargs):\n",
    "        \n",
    "        scores = np.zeros(POPULATION_SIZE)\n",
    "        \n",
    "        #scales the variables to  [-2,2]\n",
    "        _x= np.array(x)*4-2\n",
    "        #reshapes the variables back into a waypoint array\n",
    "        coordinates = _x.reshape(-1, 2)        \n",
    "        \n",
    "        #adds a 0 for height to the coordinates\n",
    "        padded_coordiantes = np.pad(coordinates,((0, 0), (0, 1)),mode='constant',constant_values=0)\n",
    "        \n",
    "        #tiles the waypoints and adds the moves, then sends all waypoints(NUM_DRONES*POPULATION_SIZE) to the simulation\n",
    "        tempWaypoints = np.tile(waypoints,(POPULATION_SIZE,1)) + padded_coordiantes\n",
    "        swarm.waypoints(ids,tempWaypoints)\n",
    "        \n",
    "        isScored = False\n",
    "        score = None\n",
    "        \n",
    "        while not isScored:\n",
    "            #wait until all drones received\n",
    "            if swarm.received_frames[ids[-1]]:\n",
    "                for i in range(POPULATION_SIZE):\n",
    "                    solutionWaypoints = tempWaypoints[i*NUM_DRONES:(i+1)*NUM_DRONES]\n",
    "                    #print(f\"Scoring Solution {i}\\n {solutionWaypoints}\")\n",
    "                    \n",
    "                    visibility_grid,visibility_offset = getOverlapArray(solutionWaypoints,offset=i)\n",
    "                    score = scoreThatThing(self.prob_density,visibility_grid,visibility_offset)\n",
    "\n",
    "                    if targetSeen:\n",
    "                        score = score *2\n",
    "                    scores[i] = -score\n",
    "                    \n",
    "                isScored=True\n",
    "           \n",
    "        out[\"F\"] = scores"
   ]
  },
  {
   "cell_type": "markdown",
   "id": "4b9a5b97",
   "metadata": {},
   "source": []
  },
  {
   "cell_type": "code",
   "execution_count": 26,
   "id": "09147a30",
   "metadata": {},
   "outputs": [],
   "source": [
    "from pymoo.core.sampling import Sampling\n",
    "class MySampling(Sampling):\n",
    "\n",
    "    def _do(self, problem, n_samples, **kwargs):\n",
    "        X = [np.random.rand(problem.n_var)]\n",
    "        #X = np.array(0)\n",
    "        for i in range(n_samples-1):\n",
    "            X= np.append(X,[np.random.rand(problem.n_var)], axis=0)\n",
    "            #print(f\"Sampled X: {X.shape} -> {X}\") \n",
    "        #print(X)\n",
    "        return X\n",
    "    \n",
    "from pymoo.termination import get_termination\n",
    "termination = get_termination(\"n_gen\", NUM_GENERATIONS)"
   ]
  },
  {
   "cell_type": "code",
   "execution_count": null,
   "id": "21165700",
   "metadata": {},
   "outputs": [],
   "source": []
  },
  {
   "cell_type": "code",
   "execution_count": 27,
   "id": "c8294e63",
   "metadata": {},
   "outputs": [],
   "source": [
    "problem = MyProblem(GRID_SIZE, NUM_DRONES, NUM_GENERATIONS, waypoints, prob_density)\n",
    "\n",
    "algorithm = DE(\n",
    "    pop_size=POPULATION_SIZE,\n",
    "    sampling=MySampling(),    #Für initiale Population\n",
    "    variant=\"DE/rand/1/bin\",\n",
    "    CR=0.9,\n",
    "    F=0.8,\n",
    "    dither=\"vector\"\n",
    ")"
   ]
  },
  {
   "cell_type": "code",
   "execution_count": 28,
   "id": "336fa45e",
   "metadata": {},
   "outputs": [],
   "source": [
    "import matplotlib.pyplot as plt\n"
   ]
  },
  {
   "cell_type": "code",
   "execution_count": 29,
   "id": "79bc8bfa",
   "metadata": {
    "scrolled": true
   },
   "outputs": [
    {
     "name": "stdout",
     "output_type": "stream",
     "text": [
      "Starting now!\n",
      "Starting Run number 0\n",
      "Swarm is currently at [[-2.  0. 35.]\n",
      " [-1.  0. 35.]\n",
      " [ 0.  0. 35.]\n",
      " [ 1.  0. 35.]\n",
      " [ 2.  0. 35.]]\n"
     ]
    },
    {
     "ename": "KeyboardInterrupt",
     "evalue": "",
     "output_type": "error",
     "traceback": [
      "\u001b[0;31m---------------------------------------------------------------------------\u001b[0m",
      "\u001b[0;31mKeyboardInterrupt\u001b[0m                         Traceback (most recent call last)",
      "\u001b[0;32m/tmp/ipykernel_57/2191966956.py\u001b[0m in \u001b[0;36m<module>\u001b[0;34m\u001b[0m\n\u001b[1;32m     21\u001b[0m \u001b[0;34m\u001b[0m\u001b[0m\n\u001b[1;32m     22\u001b[0m     \u001b[0;31m#get best solution\u001b[0m\u001b[0;34m\u001b[0m\u001b[0;34m\u001b[0m\u001b[0;34m\u001b[0m\u001b[0m\n\u001b[0;32m---> 23\u001b[0;31m     \u001b[0mres\u001b[0m \u001b[0;34m=\u001b[0m \u001b[0mminimize\u001b[0m\u001b[0;34m(\u001b[0m\u001b[0mproblem\u001b[0m\u001b[0;34m,\u001b[0m \u001b[0malgorithm\u001b[0m\u001b[0;34m,\u001b[0m \u001b[0mtermination\u001b[0m\u001b[0;34m,\u001b[0m \u001b[0mseed\u001b[0m\u001b[0;34m=\u001b[0m\u001b[0;36m1\u001b[0m\u001b[0;34m,\u001b[0m \u001b[0mverbose\u001b[0m\u001b[0;34m=\u001b[0m\u001b[0;32mTrue\u001b[0m\u001b[0;34m)\u001b[0m\u001b[0;34m\u001b[0m\u001b[0;34m\u001b[0m\u001b[0m\n\u001b[0m\u001b[1;32m     24\u001b[0m     \u001b[0m_x\u001b[0m\u001b[0;34m=\u001b[0m \u001b[0mnp\u001b[0m\u001b[0;34m.\u001b[0m\u001b[0marray\u001b[0m\u001b[0;34m(\u001b[0m\u001b[0mres\u001b[0m\u001b[0;34m.\u001b[0m\u001b[0mX\u001b[0m\u001b[0;34m)\u001b[0m\u001b[0;34m*\u001b[0m\u001b[0;36m4\u001b[0m\u001b[0;34m-\u001b[0m\u001b[0;36m2\u001b[0m\u001b[0;34m\u001b[0m\u001b[0;34m\u001b[0m\u001b[0m\n\u001b[1;32m     25\u001b[0m     \u001b[0mbest_solution\u001b[0m \u001b[0;34m=\u001b[0m \u001b[0m_x\u001b[0m\u001b[0;34m.\u001b[0m\u001b[0mreshape\u001b[0m\u001b[0;34m(\u001b[0m\u001b[0;34m-\u001b[0m\u001b[0;36m1\u001b[0m\u001b[0;34m,\u001b[0m \u001b[0;36m2\u001b[0m\u001b[0;34m)\u001b[0m\u001b[0;34m\u001b[0m\u001b[0;34m\u001b[0m\u001b[0m\n",
      "\u001b[0;32m~/.local/lib/python3.7/site-packages/pymoo/optimize.py\u001b[0m in \u001b[0;36mminimize\u001b[0;34m(problem, algorithm, termination, copy_algorithm, copy_termination, **kwargs)\u001b[0m\n\u001b[1;32m     65\u001b[0m \u001b[0;34m\u001b[0m\u001b[0m\n\u001b[1;32m     66\u001b[0m     \u001b[0;31m# actually execute the algorithm\u001b[0m\u001b[0;34m\u001b[0m\u001b[0;34m\u001b[0m\u001b[0;34m\u001b[0m\u001b[0m\n\u001b[0;32m---> 67\u001b[0;31m     \u001b[0mres\u001b[0m \u001b[0;34m=\u001b[0m \u001b[0malgorithm\u001b[0m\u001b[0;34m.\u001b[0m\u001b[0mrun\u001b[0m\u001b[0;34m(\u001b[0m\u001b[0;34m)\u001b[0m\u001b[0;34m\u001b[0m\u001b[0;34m\u001b[0m\u001b[0m\n\u001b[0m\u001b[1;32m     68\u001b[0m \u001b[0;34m\u001b[0m\u001b[0m\n\u001b[1;32m     69\u001b[0m     \u001b[0;31m# store the deep copied algorithm in the result object\u001b[0m\u001b[0;34m\u001b[0m\u001b[0;34m\u001b[0m\u001b[0;34m\u001b[0m\u001b[0m\n",
      "\u001b[0;32m~/.local/lib/python3.7/site-packages/pymoo/core/algorithm.py\u001b[0m in \u001b[0;36mrun\u001b[0;34m(self)\u001b[0m\n\u001b[1;32m    136\u001b[0m     \u001b[0;32mdef\u001b[0m \u001b[0mrun\u001b[0m\u001b[0;34m(\u001b[0m\u001b[0mself\u001b[0m\u001b[0;34m)\u001b[0m\u001b[0;34m:\u001b[0m\u001b[0;34m\u001b[0m\u001b[0;34m\u001b[0m\u001b[0m\n\u001b[1;32m    137\u001b[0m         \u001b[0;32mwhile\u001b[0m \u001b[0mself\u001b[0m\u001b[0;34m.\u001b[0m\u001b[0mhas_next\u001b[0m\u001b[0;34m(\u001b[0m\u001b[0;34m)\u001b[0m\u001b[0;34m:\u001b[0m\u001b[0;34m\u001b[0m\u001b[0;34m\u001b[0m\u001b[0m\n\u001b[0;32m--> 138\u001b[0;31m             \u001b[0mself\u001b[0m\u001b[0;34m.\u001b[0m\u001b[0mnext\u001b[0m\u001b[0;34m(\u001b[0m\u001b[0;34m)\u001b[0m\u001b[0;34m\u001b[0m\u001b[0;34m\u001b[0m\u001b[0m\n\u001b[0m\u001b[1;32m    139\u001b[0m         \u001b[0;32mreturn\u001b[0m \u001b[0mself\u001b[0m\u001b[0;34m.\u001b[0m\u001b[0mresult\u001b[0m\u001b[0;34m(\u001b[0m\u001b[0;34m)\u001b[0m\u001b[0;34m\u001b[0m\u001b[0;34m\u001b[0m\u001b[0m\n\u001b[1;32m    140\u001b[0m \u001b[0;34m\u001b[0m\u001b[0m\n",
      "\u001b[0;32m~/.local/lib/python3.7/site-packages/pymoo/core/algorithm.py\u001b[0m in \u001b[0;36mnext\u001b[0;34m(self)\u001b[0m\n\u001b[1;32m    156\u001b[0m         \u001b[0;31m# call the advance with them after evaluation\u001b[0m\u001b[0;34m\u001b[0m\u001b[0;34m\u001b[0m\u001b[0;34m\u001b[0m\u001b[0m\n\u001b[1;32m    157\u001b[0m         \u001b[0;32mif\u001b[0m \u001b[0minfills\u001b[0m \u001b[0;32mis\u001b[0m \u001b[0;32mnot\u001b[0m \u001b[0;32mNone\u001b[0m\u001b[0;34m:\u001b[0m\u001b[0;34m\u001b[0m\u001b[0;34m\u001b[0m\u001b[0m\n\u001b[0;32m--> 158\u001b[0;31m             \u001b[0mself\u001b[0m\u001b[0;34m.\u001b[0m\u001b[0mevaluator\u001b[0m\u001b[0;34m.\u001b[0m\u001b[0meval\u001b[0m\u001b[0;34m(\u001b[0m\u001b[0mself\u001b[0m\u001b[0;34m.\u001b[0m\u001b[0mproblem\u001b[0m\u001b[0;34m,\u001b[0m \u001b[0minfills\u001b[0m\u001b[0;34m,\u001b[0m \u001b[0malgorithm\u001b[0m\u001b[0;34m=\u001b[0m\u001b[0mself\u001b[0m\u001b[0;34m)\u001b[0m\u001b[0;34m\u001b[0m\u001b[0;34m\u001b[0m\u001b[0m\n\u001b[0m\u001b[1;32m    159\u001b[0m             \u001b[0mself\u001b[0m\u001b[0;34m.\u001b[0m\u001b[0madvance\u001b[0m\u001b[0;34m(\u001b[0m\u001b[0minfills\u001b[0m\u001b[0;34m=\u001b[0m\u001b[0minfills\u001b[0m\u001b[0;34m)\u001b[0m\u001b[0;34m\u001b[0m\u001b[0;34m\u001b[0m\u001b[0m\n\u001b[1;32m    160\u001b[0m \u001b[0;34m\u001b[0m\u001b[0m\n",
      "\u001b[0;32m~/.local/lib/python3.7/site-packages/pymoo/core/evaluator.py\u001b[0m in \u001b[0;36meval\u001b[0;34m(self, problem, pop, skip_already_evaluated, evaluate_values_of, count_evals, **kwargs)\u001b[0m\n\u001b[1;32m     67\u001b[0m \u001b[0;34m\u001b[0m\u001b[0m\n\u001b[1;32m     68\u001b[0m             \u001b[0;31m# do the actual evaluation - call the sub-function to set the corresponding values to the population\u001b[0m\u001b[0;34m\u001b[0m\u001b[0;34m\u001b[0m\u001b[0;34m\u001b[0m\u001b[0m\n\u001b[0;32m---> 69\u001b[0;31m             \u001b[0mself\u001b[0m\u001b[0;34m.\u001b[0m\u001b[0m_eval\u001b[0m\u001b[0;34m(\u001b[0m\u001b[0mproblem\u001b[0m\u001b[0;34m,\u001b[0m \u001b[0mpop\u001b[0m\u001b[0;34m[\u001b[0m\u001b[0mI\u001b[0m\u001b[0;34m]\u001b[0m\u001b[0;34m,\u001b[0m \u001b[0mevaluate_values_of\u001b[0m\u001b[0;34m,\u001b[0m \u001b[0;34m**\u001b[0m\u001b[0mkwargs\u001b[0m\u001b[0;34m)\u001b[0m\u001b[0;34m\u001b[0m\u001b[0;34m\u001b[0m\u001b[0m\n\u001b[0m\u001b[1;32m     70\u001b[0m \u001b[0;34m\u001b[0m\u001b[0m\n\u001b[1;32m     71\u001b[0m         \u001b[0;31m# update the function evaluation counter\u001b[0m\u001b[0;34m\u001b[0m\u001b[0;34m\u001b[0m\u001b[0;34m\u001b[0m\u001b[0m\n",
      "\u001b[0;32m~/.local/lib/python3.7/site-packages/pymoo/core/evaluator.py\u001b[0m in \u001b[0;36m_eval\u001b[0;34m(self, problem, pop, evaluate_values_of, **kwargs)\u001b[0m\n\u001b[1;32m     88\u001b[0m \u001b[0;34m\u001b[0m\u001b[0m\n\u001b[1;32m     89\u001b[0m         \u001b[0;31m# call the problem to evaluate the solutions\u001b[0m\u001b[0;34m\u001b[0m\u001b[0;34m\u001b[0m\u001b[0;34m\u001b[0m\u001b[0m\n\u001b[0;32m---> 90\u001b[0;31m         \u001b[0mout\u001b[0m \u001b[0;34m=\u001b[0m \u001b[0mproblem\u001b[0m\u001b[0;34m.\u001b[0m\u001b[0mevaluate\u001b[0m\u001b[0;34m(\u001b[0m\u001b[0mX\u001b[0m\u001b[0;34m,\u001b[0m \u001b[0mreturn_values_of\u001b[0m\u001b[0;34m=\u001b[0m\u001b[0mevaluate_values_of\u001b[0m\u001b[0;34m,\u001b[0m \u001b[0mreturn_as_dictionary\u001b[0m\u001b[0;34m=\u001b[0m\u001b[0;32mTrue\u001b[0m\u001b[0;34m,\u001b[0m \u001b[0;34m**\u001b[0m\u001b[0mkwargs\u001b[0m\u001b[0;34m)\u001b[0m\u001b[0;34m\u001b[0m\u001b[0;34m\u001b[0m\u001b[0m\n\u001b[0m\u001b[1;32m     91\u001b[0m \u001b[0;34m\u001b[0m\u001b[0m\n\u001b[1;32m     92\u001b[0m         \u001b[0;31m# for each of the attributes set it to the problem\u001b[0m\u001b[0;34m\u001b[0m\u001b[0;34m\u001b[0m\u001b[0;34m\u001b[0m\u001b[0m\n",
      "\u001b[0;32m~/.local/lib/python3.7/site-packages/pymoo/core/problem.py\u001b[0m in \u001b[0;36mevaluate\u001b[0;34m(self, X, return_values_of, return_as_dictionary, *args, **kwargs)\u001b[0m\n\u001b[1;32m    255\u001b[0m \u001b[0;34m\u001b[0m\u001b[0m\n\u001b[1;32m    256\u001b[0m         \u001b[0;31m# this is where the actual evaluation takes place\u001b[0m\u001b[0;34m\u001b[0m\u001b[0;34m\u001b[0m\u001b[0;34m\u001b[0m\u001b[0m\n\u001b[0;32m--> 257\u001b[0;31m         \u001b[0m_out\u001b[0m \u001b[0;34m=\u001b[0m \u001b[0mself\u001b[0m\u001b[0;34m.\u001b[0m\u001b[0mdo\u001b[0m\u001b[0;34m(\u001b[0m\u001b[0mX\u001b[0m\u001b[0;34m,\u001b[0m \u001b[0mreturn_values_of\u001b[0m\u001b[0;34m,\u001b[0m \u001b[0;34m*\u001b[0m\u001b[0margs\u001b[0m\u001b[0;34m,\u001b[0m \u001b[0;34m**\u001b[0m\u001b[0mkwargs\u001b[0m\u001b[0;34m)\u001b[0m\u001b[0;34m\u001b[0m\u001b[0;34m\u001b[0m\u001b[0m\n\u001b[0m\u001b[1;32m    258\u001b[0m \u001b[0;34m\u001b[0m\u001b[0m\n\u001b[1;32m    259\u001b[0m         \u001b[0mout\u001b[0m \u001b[0;34m=\u001b[0m \u001b[0;34m{\u001b[0m\u001b[0;34m}\u001b[0m\u001b[0;34m\u001b[0m\u001b[0;34m\u001b[0m\u001b[0m\n",
      "\u001b[0;32m~/.local/lib/python3.7/site-packages/pymoo/core/problem.py\u001b[0m in \u001b[0;36mdo\u001b[0;34m(self, X, return_values_of, *args, **kwargs)\u001b[0m\n\u001b[1;32m    297\u001b[0m             \u001b[0mself\u001b[0m\u001b[0;34m.\u001b[0m\u001b[0m_evaluate_elementwise\u001b[0m\u001b[0;34m(\u001b[0m\u001b[0mX\u001b[0m\u001b[0;34m,\u001b[0m \u001b[0mout\u001b[0m\u001b[0;34m,\u001b[0m \u001b[0;34m*\u001b[0m\u001b[0margs\u001b[0m\u001b[0;34m,\u001b[0m \u001b[0;34m**\u001b[0m\u001b[0mkwargs\u001b[0m\u001b[0;34m)\u001b[0m\u001b[0;34m\u001b[0m\u001b[0;34m\u001b[0m\u001b[0m\n\u001b[1;32m    298\u001b[0m         \u001b[0;32melse\u001b[0m\u001b[0;34m:\u001b[0m\u001b[0;34m\u001b[0m\u001b[0;34m\u001b[0m\u001b[0m\n\u001b[0;32m--> 299\u001b[0;31m             \u001b[0mself\u001b[0m\u001b[0;34m.\u001b[0m\u001b[0m_evaluate_vectorized\u001b[0m\u001b[0;34m(\u001b[0m\u001b[0mX\u001b[0m\u001b[0;34m,\u001b[0m \u001b[0mout\u001b[0m\u001b[0;34m,\u001b[0m \u001b[0;34m*\u001b[0m\u001b[0margs\u001b[0m\u001b[0;34m,\u001b[0m \u001b[0;34m**\u001b[0m\u001b[0mkwargs\u001b[0m\u001b[0;34m)\u001b[0m\u001b[0;34m\u001b[0m\u001b[0;34m\u001b[0m\u001b[0m\n\u001b[0m\u001b[1;32m    300\u001b[0m \u001b[0;34m\u001b[0m\u001b[0m\n\u001b[1;32m    301\u001b[0m         \u001b[0;31m# finally format the output dictionary\u001b[0m\u001b[0;34m\u001b[0m\u001b[0;34m\u001b[0m\u001b[0;34m\u001b[0m\u001b[0m\n",
      "\u001b[0;32m~/.local/lib/python3.7/site-packages/pymoo/core/problem.py\u001b[0m in \u001b[0;36m_evaluate_vectorized\u001b[0;34m(self, X, out, *args, **kwargs)\u001b[0m\n\u001b[1;32m    305\u001b[0m \u001b[0;34m\u001b[0m\u001b[0m\n\u001b[1;32m    306\u001b[0m     \u001b[0;32mdef\u001b[0m \u001b[0m_evaluate_vectorized\u001b[0m\u001b[0;34m(\u001b[0m\u001b[0mself\u001b[0m\u001b[0;34m,\u001b[0m \u001b[0mX\u001b[0m\u001b[0;34m,\u001b[0m \u001b[0mout\u001b[0m\u001b[0;34m,\u001b[0m \u001b[0;34m*\u001b[0m\u001b[0margs\u001b[0m\u001b[0;34m,\u001b[0m \u001b[0;34m**\u001b[0m\u001b[0mkwargs\u001b[0m\u001b[0;34m)\u001b[0m\u001b[0;34m:\u001b[0m\u001b[0;34m\u001b[0m\u001b[0;34m\u001b[0m\u001b[0m\n\u001b[0;32m--> 307\u001b[0;31m         \u001b[0mself\u001b[0m\u001b[0;34m.\u001b[0m\u001b[0m_evaluate\u001b[0m\u001b[0;34m(\u001b[0m\u001b[0mX\u001b[0m\u001b[0;34m,\u001b[0m \u001b[0mout\u001b[0m\u001b[0;34m,\u001b[0m \u001b[0;34m*\u001b[0m\u001b[0margs\u001b[0m\u001b[0;34m,\u001b[0m \u001b[0;34m**\u001b[0m\u001b[0mkwargs\u001b[0m\u001b[0;34m)\u001b[0m\u001b[0;34m\u001b[0m\u001b[0;34m\u001b[0m\u001b[0m\n\u001b[0m\u001b[1;32m    308\u001b[0m \u001b[0;34m\u001b[0m\u001b[0m\n\u001b[1;32m    309\u001b[0m     \u001b[0;32mdef\u001b[0m \u001b[0m_evaluate_elementwise\u001b[0m\u001b[0;34m(\u001b[0m\u001b[0mself\u001b[0m\u001b[0;34m,\u001b[0m \u001b[0mX\u001b[0m\u001b[0;34m,\u001b[0m \u001b[0mout\u001b[0m\u001b[0;34m,\u001b[0m \u001b[0;34m*\u001b[0m\u001b[0margs\u001b[0m\u001b[0;34m,\u001b[0m \u001b[0;34m**\u001b[0m\u001b[0mkwargs\u001b[0m\u001b[0;34m)\u001b[0m\u001b[0;34m:\u001b[0m\u001b[0;34m\u001b[0m\u001b[0;34m\u001b[0m\u001b[0m\n",
      "\u001b[0;32m/tmp/ipykernel_57/447127423.py\u001b[0m in \u001b[0;36m_evaluate\u001b[0;34m(self, x, out, *args, **kwargs)\u001b[0m\n\u001b[1;32m     41\u001b[0m         \u001b[0;32mwhile\u001b[0m \u001b[0;32mnot\u001b[0m \u001b[0misScored\u001b[0m\u001b[0;34m:\u001b[0m\u001b[0;34m\u001b[0m\u001b[0;34m\u001b[0m\u001b[0m\n\u001b[1;32m     42\u001b[0m             \u001b[0;31m#wait until all drones received\u001b[0m\u001b[0;34m\u001b[0m\u001b[0;34m\u001b[0m\u001b[0;34m\u001b[0m\u001b[0m\n\u001b[0;32m---> 43\u001b[0;31m             \u001b[0;32mif\u001b[0m \u001b[0mswarm\u001b[0m\u001b[0;34m.\u001b[0m\u001b[0mreceived_frames\u001b[0m\u001b[0;34m[\u001b[0m\u001b[0mids\u001b[0m\u001b[0;34m[\u001b[0m\u001b[0;34m-\u001b[0m\u001b[0;36m1\u001b[0m\u001b[0;34m]\u001b[0m\u001b[0;34m]\u001b[0m\u001b[0;34m:\u001b[0m\u001b[0;34m\u001b[0m\u001b[0;34m\u001b[0m\u001b[0m\n\u001b[0m\u001b[1;32m     44\u001b[0m                 \u001b[0;32mfor\u001b[0m \u001b[0mi\u001b[0m \u001b[0;32min\u001b[0m \u001b[0mrange\u001b[0m\u001b[0;34m(\u001b[0m\u001b[0mPOPULATION_SIZE\u001b[0m\u001b[0;34m)\u001b[0m\u001b[0;34m:\u001b[0m\u001b[0;34m\u001b[0m\u001b[0;34m\u001b[0m\u001b[0m\n\u001b[1;32m     45\u001b[0m                     \u001b[0msolutionWaypoints\u001b[0m \u001b[0;34m=\u001b[0m \u001b[0mtempWaypoints\u001b[0m\u001b[0;34m[\u001b[0m\u001b[0mi\u001b[0m\u001b[0;34m*\u001b[0m\u001b[0mNUM_DRONES\u001b[0m\u001b[0;34m:\u001b[0m\u001b[0;34m(\u001b[0m\u001b[0mi\u001b[0m\u001b[0;34m+\u001b[0m\u001b[0;36m1\u001b[0m\u001b[0;34m)\u001b[0m\u001b[0;34m*\u001b[0m\u001b[0mNUM_DRONES\u001b[0m\u001b[0;34m]\u001b[0m\u001b[0;34m\u001b[0m\u001b[0;34m\u001b[0m\u001b[0m\n",
      "\u001b[0;31mKeyboardInterrupt\u001b[0m: "
     ]
    }
   ],
   "source": [
    "finished=False\n",
    "#Drone waypoints got from -25 to 25, Array from 0 to 50\n",
    "#waypoints=np.array([[-5,0,35.],[-2,0,35.],[ 0,0,35.],[ 2,0,35.],[5,15,35.]])\n",
    "#swarm.waypoints(ids,waypoints)\n",
    "\n",
    "visibility_grid= \"Null\"\n",
    "runNumber=0\n",
    "\n",
    "#print(f\"Starting with waypoints: \\n {waypoints}\")\n",
    "\n",
    "sigma=10\n",
    "\n",
    "print(\"Starting now!\")\n",
    "\n",
    "while not finished and runNumber<50:\n",
    "    #wait until all drones received\n",
    "    #if swarm.received_frames[ids[-1]]:\n",
    "    print(f\"Starting Run number {runNumber}\")\n",
    "    print(f\"Swarm is currently at {problem.waypoints}\")\n",
    "    runNumber+=1\n",
    "\n",
    "    #get best solution\n",
    "    res = minimize(problem, algorithm, termination, seed=1, verbose=True)\n",
    "    _x= np.array(res.X)*4-2\n",
    "    best_solution = _x.reshape(-1, 2)\n",
    "    #best_solution = res.X.reshape(-1, 2)\n",
    "    print(f\"Best Solution: \\n {best_solution}\")\n",
    "    #update waypoints\n",
    "    waypoints = waypoints + np.pad(best_solution,((0, 0), (0, 1)),mode='constant',constant_values=0)\n",
    "    \n",
    "    #swarm.waypoints(ids,waypoints)\n",
    "    print(f\"Sending swarm to \\n {waypoints}\")\n",
    "    #update probability_grid and waypoints\n",
    "    problem.waypoints = waypoints\n",
    "    sigma+=1\n",
    "\n",
    "    if targetSeen:\n",
    "        print(\"Target Seen!\\n Updating target Position and resetting Sigma\")\n",
    "        sigma = 2\n",
    "        Last_Known_Position= Target_Position\n",
    "        targetSeen = False\n",
    "\n",
    "    problem.prob_density,x,y = getProbabilityGrid(Last_Known_Position,sigma)\n",
    "\n",
    "\n",
    "\n",
    "    plt.figure(figsize=(4, 3))\n",
    "    plt.contourf(x, y, prob_density, levels=50, cmap='hot')\n",
    "    plt.colorbar(label='Probability Density')\n",
    "    plt.scatter(Last_Known_Position[0],Last_Known_Position[1], color='blue', label='Last Known Position')\n",
    "    plt.scatter(waypoints[:, 0],waypoints[:, 1], color='green', label='Drones')\n",
    "    plt.show()\n",
    "\n",
    "print(f\"Best Solution:\\n {best_solution}\")"
   ]
  },
  {
   "cell_type": "code",
   "execution_count": 30,
   "id": "419ee5f2",
   "metadata": {
    "scrolled": true
   },
   "outputs": [
    {
     "name": "stdout",
     "output_type": "stream",
     "text": [
      "(b'', b'libEGL warning: failed to open /dev/dri/renderD128: Permission denied\\n\\nlibEGL warning: NEEDS EXTENSION: falling back to kms_swrast\\n')\n"
     ]
    }
   ],
   "source": [
    "#Kill the Simulation\n",
    "\n",
    "run(['pkill', '--full', 'gz sim server'])\n",
    "run(['pkill', '--full', 'gz sim gui'])\n",
    "\n",
    "print(process.communicate())"
   ]
  },
  {
   "cell_type": "code",
   "execution_count": null,
   "id": "1bd59f7d",
   "metadata": {},
   "outputs": [],
   "source": []
  }
 ],
 "metadata": {
  "kernelspec": {
   "display_name": "Python 3 (ipykernel)",
   "language": "python",
   "name": "python3"
  },
  "language_info": {
   "codemirror_mode": {
    "name": "ipython",
    "version": 3
   },
   "file_extension": ".py",
   "mimetype": "text/x-python",
   "name": "python",
   "nbconvert_exporter": "python",
   "pygments_lexer": "ipython3",
   "version": "3.7.12"
  }
 },
 "nbformat": 4,
 "nbformat_minor": 5
}
