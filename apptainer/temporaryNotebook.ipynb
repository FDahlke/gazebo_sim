{
 "cells": [
  {
   "cell_type": "code",
   "execution_count": 1,
   "id": "43f8599e",
   "metadata": {},
   "outputs": [],
   "source": [
    "import time\n",
    "import cv2\n",
    "\n",
    "import numpy as np\n",
    "\n",
    "from swarm import Swarm\n",
    "from person import Person\n"
   ]
  },
  {
   "cell_type": "code",
   "execution_count": 2,
   "id": "640f6af4",
   "metadata": {},
   "outputs": [],
   "source": [
    "NUM_DRONES = 3\n",
    "GRID_SIZE = 100         # Size of the Forest\n",
    "MOVE_DISTANCE = 1       # How far a Drone can move each Timestep\n",
    "TIMESTEPS = 10\n",
    "POPULATION_SIZE = 50\n",
    "NUM_GENERATIONS = 10\n",
    "MUTATION_RATE = 0.1"
   ]
  },
  {
   "cell_type": "code",
   "execution_count": 3,
   "id": "cb93cc5d",
   "metadata": {},
   "outputs": [],
   "source": [
    "from pymoo.algorithms.soo.nonconvex.de import DE\n",
    "from pymoo.optimize import minimize\n",
    "from pymoo.operators.sampling.lhs import LHS\n",
    "\n",
    "algorithm = DE(\n",
    "    pop_size=100,\n",
    "    sampling=LHS(),\n",
    "    variant=\"DE/rand/1/bin\",\n",
    "    CR=0.3,\n",
    "    dither=\"vector\",\n",
    "    jitter=False\n",
    ")\n",
    "#TODO: define Problem correctly\n",
    "\n",
    "#res = minimize(problem,\n",
    "#               algorithm,\n",
    "#               verbose=True,\n",
    "#               seed=1,\n",
    "#\n",
    "#print(\"Best solution found: \\nX = %s\\nF = %s\" % (res.X, res.F))"
   ]
  },
  {
   "cell_type": "code",
   "execution_count": 4,
   "id": "76b98342",
   "metadata": {},
   "outputs": [],
   "source": [
    "def evaluate_solution(waypoints):\n",
    "    # Placeholder for the scoring function\n",
    "    score = 0\n",
    "    # Chance of finding target x Ground Visibility x Distance to other Drones\n",
    "    return score\n",
    "\n",
    "    #TODO: Pymoo\n",
    "def check_ground_visible(swarm, ids):\n",
    "    for id in ids:\n",
    "        depth_image = swarm.depth_images[id]\n",
    "        #TODO: Save for position\n",
    "        break\n",
    "\n",
    "#def getNextWaypoints():\n",
    "    "
   ]
  },
  {
   "cell_type": "code",
   "execution_count": 5,
   "id": "a79f9ff8",
   "metadata": {},
   "outputs": [],
   "source": [
    "#def mutate(solution):\n",
    "    # Waypints in Solution get randomized\n",
    "def crossover(parent1, parent2):\n",
    "    crossover_point = random.randint(0, TIMESTEPS - 1)\n",
    "    child = parent1[:crossover_point] + parent2[crossover_point:]\n",
    "    return child"
   ]
  },
  {
   "cell_type": "markdown",
   "id": "bdd37469",
   "metadata": {},
   "source": [
    "Initialization of Drones and Solution Populations"
   ]
  },
  {
   "cell_type": "code",
   "execution_count": 6,
   "id": "e97ceb68",
   "metadata": {},
   "outputs": [
    {
     "name": "stdout",
     "output_type": "stream",
     "text": [
      "Subscribed successfully\n",
      "3\n",
      "[[-1.5  0.  35. ]\n",
      " [-0.5  0.  35. ]\n",
      " [ 0.5  0.  35. ]]\n"
     ]
    }
   ],
   "source": [
    "#Spawn Drones and move to initial position\n",
    "\n",
    "# Create the swarm object by passing the name\n",
    "# of the world from the .sdf world file.\n",
    "swarm = Swarm(\"rhel_swarm\")\n",
    "#person = Person(\"rhel_swarm\")\n",
    "\n",
    "# Spawn X drones and keep the returning ids as handles\n",
    "ids = swarm.spawn(NUM_DRONES)\n",
    "\n",
    "# First waypoints\n",
    "waypoints = np.empty((0,3),float)\n",
    "for i in range (NUM_DRONES):\n",
    "    waypoints= np.append(waypoints,np.array([[i-(NUM_DRONES/2),0.0,35.0]]), axis=0)\n",
    "\n",
    "print(NUM_DRONES)\n",
    "print(waypoints)\n",
    "\n",
    "#create Initial"
   ]
  },
  {
   "cell_type": "code",
   "execution_count": 7,
   "id": "e0112472",
   "metadata": {},
   "outputs": [
    {
     "name": "stdout",
     "output_type": "stream",
     "text": [
      "[[-1.5  0.  30. ]\n",
      " [-0.5  0.  30. ]\n",
      " [ 0.5  0.  30. ]]\n"
     ]
    }
   ],
   "source": [
    "current_waypoints = waypoints - np.array([0.0, 0.0, 5])\n",
    "print(current_waypoints)\n",
    "swarm.waypoints(ids, current_waypoints)"
   ]
  },
  {
   "cell_type": "code",
   "execution_count": null,
   "id": "0bb1ea69",
   "metadata": {},
   "outputs": [
    {
     "name": "stdout",
     "output_type": "stream",
     "text": [
      "Timeout reached for waypoints with dz=0\n"
     ]
    }
   ],
   "source": [
    "for d_z in range(0, 30, 5):\n",
    "\n",
    "    # Set the waypoints for all drones\n",
    "    current_waypoints = waypoints - np.array([0.0, 0.0, d_z])\n",
    "    swarm.waypoints(ids, current_waypoints)\n",
    "\n",
    "    # Wait until the data has arrived\n",
    "    time_delta = 0.01           # Delta time per sleep command in seconds\n",
    "    time_passed = 0.0           # Time counter to keep track of the time in seconds\n",
    "    timeout = 1.0               # Timeout in case something goes wrong\n",
    "\n",
    "    timeout_occured = False\n",
    "\n",
    "    while time_passed < timeout:\n",
    "        # All frames for a waypoint called send\n",
    "        # together, so it is enough to check the\n",
    "        # last one.\n",
    "        if swarm.received_frames[ids[-1]]:\n",
    "            print(\"All frames recieved\")\n",
    "            for id in ids:\n",
    "                rgb_image = swarm.rgb_images[id]\n",
    "                #thermal_image = swarm.thermal_images[id]\n",
    "                depth_image = swarm.depth_images[id]\n",
    "                print(depth_image)\n",
    "                # In this example we only store them in a data directory\n",
    "                # OpenCV expects BGR but it is RGB, so switch the channels\n",
    "                #cv2.imwrite(f\"../../data/swarm/rgb_image_drone_{id}_dz_{d_z}.png\", cv2.cvtColor(rgb_image, cv2.COLOR_BGR2RGB))    \n",
    "                #cv2.imwrite(f\"../../data/swarm/thermal_image_drone_{id}_dz_{d_z}.png\", thermal_image)\n",
    "               # cv2.imwrite(f\"../../data/swarm/depth_image_drone_{id}_dz_{d_z}.png\", depth_image)\n",
    "            break\n",
    "\n",
    "        time.sleep(time_delta)\n",
    "        time_passed += time_delta\n",
    "    if time_passed >= timeout:\n",
    "            timeout_occured = True\n",
    "            print(f\"Timeout reached for waypoints with dz={d_z}\")\n",
    "\n",
    "if timeout_occured:\n",
    "    raise TimeoutError(\"Timeout occured while waiting for waypoint\")"
   ]
  },
  {
   "cell_type": "code",
   "execution_count": null,
   "id": "1c2335fb",
   "metadata": {},
   "outputs": [],
   "source": []
  }
 ],
 "metadata": {
  "kernelspec": {
   "display_name": "Python 3 (ipykernel)",
   "language": "python",
   "name": "python3"
  },
  "language_info": {
   "codemirror_mode": {
    "name": "ipython",
    "version": 3
   },
   "file_extension": ".py",
   "mimetype": "text/x-python",
   "name": "python",
   "nbconvert_exporter": "python",
   "pygments_lexer": "ipython3",
   "version": "3.7.12"
  }
 },
 "nbformat": 4,
 "nbformat_minor": 5
}
