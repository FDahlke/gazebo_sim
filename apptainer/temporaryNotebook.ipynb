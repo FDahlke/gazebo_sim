{
 "cells": [
  {
   "cell_type": "code",
   "execution_count": 1,
   "id": "43f8599e",
   "metadata": {},
   "outputs": [],
   "source": [
    "import time\n",
    "import cv2\n",
    "\n",
    "import numpy as np\n",
    "\n",
    "from swarm import Swarm\n",
    "from person import Person\n"
   ]
  },
  {
   "cell_type": "code",
   "execution_count": null,
   "id": "bcaf0b77",
   "metadata": {},
   "outputs": [],
   "source": [
    "NUM_DRONES = 5\n",
    "GRID_SIZE = 100         # Size of the Forest\n",
    "MOVE_DISTANCE = 1       # How far a Drone can move each Timestep\n",
    "TIMESTEPS = 10\n",
    "POPULATION_SIZE = 50\n",
    "NUM_GENERATIONS = 10\n",
    "MUTATION_RATE = 0.1"
   ]
  },
  {
   "cell_type": "code",
   "execution_count": 4,
   "id": "e97ceb68",
   "metadata": {},
   "outputs": [
    {
     "name": "stdout",
     "output_type": "stream",
     "text": [
      "Subscribed successfully\n"
     ]
    }
   ],
   "source": [
    " # Create the swarm object by passing the name\n",
    "# of the world from the .sdf world file.\n",
    "swarm = Swarm(\"example_swarm\")\n",
    "\n",
    "# Spawn 4 drones and keep the returning ids as handles\n",
    "ids = swarm.spawn(4)\n",
    "\n",
    "# First waypoints\n",
    "waypoints = np.array([\n",
    "    [-2.0,-2.0, 30.0],\n",
    "    [ 2.0,-2.0, 30.0],\n",
    "    [-2.0, 2.0, 30.0],\n",
    "    [ 2.0, 2.0, 30.0],\n",
    "])\n",
    "\n",
    "for d_z in range(0, 30, 5):\n",
    "\n",
    "    # Set the waypoints for all drones\n",
    "    current_waypoints = waypoints - np.array([0.0, 0.0, d_z])\n",
    "    swarm.waypoints(ids, current_waypoints)\n",
    "\n",
    "    # Wait until the data has arrived\n",
    "    time_delta = 0.01           # Delta time per sleep command in seconds\n",
    "    time_passed = 0.0           # Time counter to keep track of the time in seconds\n",
    "    timeout = 1.0               # Timeout in case something goes wrong\n",
    "\n",
    "    while time_passed < timeout:\n",
    "\n",
    "        # All frames for a waypoint called send\n",
    "        # together, so it is enough to check the\n",
    "        # last one.\n",
    "        if swarm.received_frames[ids[-1]]:\n",
    "\n",
    "            for id in ids:\n",
    "                rgb_image = swarm.rgb_images[id]\n",
    "                thermal_image = swarm.thermal_images[id]\n",
    "\n",
    "                # In this example we only store them in a data directory\n",
    "                # OpenCV expects BGR but it is RGB, so switch the channels\n",
    "                cv2.imwrite(f\"../../data/swarm/rgb_image_drone_{id}_dz_{d_z}.png\", cv2.cvtColor(rgb_image, cv2.COLOR_BGR2RGB))    \n",
    "                cv2.imwrite(f\"../../data/swarm/thermal_image_drone_{id}_dz_{d_z}.png\", thermal_image)\n",
    "\n",
    "            break\n",
    "\n",
    "        time.sleep(time_delta)\n",
    "        time_passed += time_delta\n"
   ]
  },
  {
   "cell_type": "code",
   "execution_count": null,
   "id": "1c2335fb",
   "metadata": {},
   "outputs": [],
   "source": []
  }
 ],
 "metadata": {
  "kernelspec": {
   "display_name": "Python 3 (ipykernel)",
   "language": "python",
   "name": "python3"
  },
  "language_info": {
   "codemirror_mode": {
    "name": "ipython",
    "version": 3
   },
   "file_extension": ".py",
   "mimetype": "text/x-python",
   "name": "python",
   "nbconvert_exporter": "python",
   "pygments_lexer": "ipython3",
   "version": "3.7.12"
  }
 },
 "nbformat": 4,
 "nbformat_minor": 5
}
