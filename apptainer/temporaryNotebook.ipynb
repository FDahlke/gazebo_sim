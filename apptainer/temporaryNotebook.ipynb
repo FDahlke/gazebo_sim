{
 "cells": [
  {
   "cell_type": "code",
   "execution_count": 18,
   "id": "43f8599e",
   "metadata": {},
   "outputs": [],
   "source": [
    "import time\n",
    "import cv2\n",
    "import math\n",
    "\n",
    "import numpy as np\n",
    "\n",
    "from swarm import Swarm\n"
   ]
  },
  {
   "cell_type": "code",
   "execution_count": 19,
   "id": "640f6af4",
   "metadata": {},
   "outputs": [],
   "source": [
    "NUM_DRONES = 3\n",
    "GRID_SIZE = 50           # Size of the Forest\n",
    "grid_offset=GRID_SIZE/2\n",
    "\n",
    "MOVE_DISTANCE = 1       # How far a Drone can move each Timestep\n",
    "TIMESTEPS = 10\n",
    "POPULATION_SIZE = 50\n",
    "NUM_GENERATIONS = 10\n",
    "MUTATION_RATE = 0.1\n",
    "\n",
    "AREA_SIZE_X = 50\n",
    "AREA_SIZE_Y = 50\n",
    "INITIAL_VISIBILITY = 0.5"
   ]
  },
  {
   "cell_type": "code",
   "execution_count": 17,
   "id": "76b98342",
   "metadata": {},
   "outputs": [],
   "source": [
    "#return percentage of ground visible (depth>34meter)\n",
    "def check_ground_visibility(depth_image):\n",
    "    number_visible_ground=0\n",
    "    for i in depth_image:\n",
    "        for j in i:\n",
    "            if j[1]>3400:\n",
    "                number_visible_ground= number_visible_ground+1\n",
    "    return number_visible_ground/(512**2)\n",
    " \n",
    "def update_Target_Position():\n",
    "    if Target_Position[0]<25:\n",
    "        Target_Position = Target_Position + [0.5,0.5]"
   ]
  },
  {
   "cell_type": "code",
   "execution_count": 9,
   "id": "a79f9ff8",
   "metadata": {},
   "outputs": [],
   "source": [
    "#def mutate(solution):\n",
    "    # Waypints in Solution get randomized\n",
    "def crossover(parent1, parent2):\n",
    "    crossover_point = random.randint(0, TIMESTEPS - 1)\n",
    "    child = parent1[:crossover_point] + parent2[crossover_point:]\n",
    "    return child"
   ]
  },
  {
   "cell_type": "markdown",
   "id": "bdd37469",
   "metadata": {},
   "source": [
    "Initialization of Drones and Solution Populations"
   ]
  },
  {
   "cell_type": "code",
   "execution_count": 20,
   "id": "e97ceb68",
   "metadata": {},
   "outputs": [
    {
     "name": "stdout",
     "output_type": "stream",
     "text": [
      "Subscribed successfully\n"
     ]
    }
   ],
   "source": [
    "#Spawn Drones and move to initial position\n",
    "\n",
    "# Create the swarm object by passing the name\n",
    "# of the world from the .sdf world file.\n",
    "swarm = Swarm(\"rhea_swarm\")\n",
    "\n",
    "# Spawn X drones and keep the returning ids as handles\n",
    "ids = swarm.spawn(NUM_DRONES)\n",
    "\n",
    "#Create Fake Person Location\n",
    "person_waypoint =np.array([5,5])\n",
    "\n",
    "# First waypoints\n",
    "waypoints = np.empty((0,3),float)\n",
    "for i in range (NUM_DRONES):\n",
    "    waypoints= np.append(waypoints,np.array([[math.ceil(i-(NUM_DRONES/2)),0.0,35.0]]), axis=0)\n",
    "\n",
    "#create Initial\n",
    "swarm.waypoints(ids, waypoints)\n",
    "\n",
    "#Visibility by Coordiantes File:\n",
    "grid_visibility = np.full((AREA_SIZE_X,AREA_SIZE_Y), INITIAL_VISIBILITY)\n",
    "\n",
    "#Initialize Target Position\n",
    "Target_Position = [10,10]\n",
    "\n",
    "Last_Known_Position = Target_Position"
   ]
  },
  {
   "cell_type": "code",
   "execution_count": 13,
   "id": "7dbad771",
   "metadata": {},
   "outputs": [
    {
     "name": "stdout",
     "output_type": "stream",
     "text": [
      "0.7034645080566406\n"
     ]
    }
   ],
   "source": [
    "#print(swarm.depth_images[1])\n",
    "print(check_ground_visibility(swarm.depth_images[1]))\n"
   ]
  },
  {
   "cell_type": "code",
   "execution_count": 8,
   "id": "0bb1ea69",
   "metadata": {},
   "outputs": [
    {
     "name": "stdout",
     "output_type": "stream",
     "text": [
      "Timeout reached for waypoints with dz=0\n",
      "Timeout reached for waypoints with dz=5\n",
      "Timeout reached for waypoints with dz=10\n",
      "Timeout reached for waypoints with dz=15\n",
      "Timeout reached for waypoints with dz=20\n",
      "Timeout reached for waypoints with dz=25\n"
     ]
    },
    {
     "ename": "TimeoutError",
     "evalue": "Timeout occured while waiting for waypoint",
     "output_type": "error",
     "traceback": [
      "\u001b[0;31m---------------------------------------------------------------------------\u001b[0m",
      "\u001b[0;31mTimeoutError\u001b[0m                              Traceback (most recent call last)",
      "\u001b[0;32m/tmp/ipykernel_756/4228680582.py\u001b[0m in \u001b[0;36m<module>\u001b[0;34m\u001b[0m\n\u001b[1;32m     45\u001b[0m \u001b[0;34m\u001b[0m\u001b[0m\n\u001b[1;32m     46\u001b[0m \u001b[0;32mif\u001b[0m \u001b[0mtimeout_occured\u001b[0m\u001b[0;34m:\u001b[0m\u001b[0;34m\u001b[0m\u001b[0;34m\u001b[0m\u001b[0m\n\u001b[0;32m---> 47\u001b[0;31m     \u001b[0;32mraise\u001b[0m \u001b[0mTimeoutError\u001b[0m\u001b[0;34m(\u001b[0m\u001b[0;34m\"Timeout occured while waiting for waypoint\"\u001b[0m\u001b[0;34m)\u001b[0m\u001b[0;34m\u001b[0m\u001b[0;34m\u001b[0m\u001b[0m\n\u001b[0m\u001b[1;32m     48\u001b[0m \u001b[0;34m\u001b[0m\u001b[0m\n\u001b[1;32m     49\u001b[0m \u001b[0mprint\u001b[0m\u001b[0;34m(\u001b[0m\u001b[0;34m\"Finished\"\u001b[0m\u001b[0;34m)\u001b[0m\u001b[0;34m\u001b[0m\u001b[0;34m\u001b[0m\u001b[0m\n",
      "\u001b[0;31mTimeoutError\u001b[0m: Timeout occured while waiting for waypoint"
     ]
    }
   ],
   "source": [
    "for d_z in range(0, 30, 5):\n",
    "\n",
    "    # Set the waypoints for all drones\n",
    "    current_waypoints = waypoints\n",
    "    swarm.waypoints(ids, current_waypoints)\n",
    "\n",
    "    # Wait until the data has arrived\n",
    "    time_delta = 0.01           # Delta time per sleep command in seconds\n",
    "    time_passed = 0.0           # Time counter to keep track of the time in seconds\n",
    "    timeout = 1.0               # Timeout in case something goes wrong\n",
    "\n",
    "    timeout_occured = False\n",
    "\n",
    "    while time_passed < timeout:\n",
    "        # All frames for a waypoint called send\n",
    "        # together, so it is enough to check the\n",
    "        # last one.\n",
    "        if swarm.received_frames[ids[-1]]:\n",
    "            print(\"All frames recieved\")\n",
    "            \n",
    "            print(\"depth image for ID={}:\".format(1))\n",
    "            d_i = swarm.depth_images[1]\n",
    "            print(np.shape(d_i))\n",
    "            #for i in range(len(d_i)):\n",
    "            #    print(d_i[i])\n",
    "            \n",
    "            for id in ids:\n",
    "                rgb_image = swarm.rgb_images[id]\n",
    "                #thermal_image = swarm.thermal_images[id]\n",
    "                depth_image = swarm.depth_images[id]\n",
    "                # In this example we only store them in a data directory\n",
    "                # OpenCV expects BGR but it is RGB, so switch the channels\n",
    "                c#v2.imwrite(f\"../../data/swarm/rgb_image_drone_{id}_dz_{d_z}.png\", cv2.cvtColor(rgb_image, cv2.COLOR_BGR2RGB))    \n",
    "                #cv2.imwrite(f\"../../data/swarm/thermal_image_drone_{id}_dz_{d_z}.png\", thermal_image)\n",
    "                #cv2.imwrite(f\"../../data/swarm/depth_image_drone_{id}_dz_{d_z}.png\", depth_image)\n",
    "            break\n",
    "            \n",
    "            \n",
    "            \n",
    "        time.sleep(time_delta)\n",
    "        time_passed += time_delta\n",
    "    if time_passed >= timeout:\n",
    "            timeout_occured = True\n",
    "            print(f\"Timeout reached for waypoints with dz={d_z}\")\n",
    "\n",
    "if timeout_occured:\n",
    "    raise TimeoutError(\"Timeout occured while waiting for waypoint\")\n",
    "    \n",
    "print(\"Finished\")"
   ]
  },
  {
   "cell_type": "code",
   "execution_count": 14,
   "id": "d3428447",
   "metadata": {},
   "outputs": [],
   "source": [
    "# Problem classes\n",
    "from pymoo.core.problem import Problem, ElementwiseProblem\n",
    "from pymoo.problems.functional import FunctionalProblem\n",
    "from pymoo.optimize import minimize\n",
    "\n",
    "# Algorithmss\n",
    "from pymoode.algorithms import DE, GDE3, NSDE, NSDER\n",
    "from pymoo.algorithms.moo.nsga3 import NSGA3\n",
    "from pymoo.algorithms.moo.nsga2 import NSGA2\n",
    "\n",
    "# Reference directions and test problems\n",
    "from pymoo.problems import get_problem\n",
    "from pymoo.util.ref_dirs import get_reference_directions\n",
    "\n",
    "# Survival operators\n",
    "from pymoode.survival import RankAndCrowding, ConstrRankAndCrowding\n",
    "\n",
    "# Termination\n",
    "from pymoo.termination.default import DefaultSingleObjectiveTermination, DefaultMultiObjectiveTermination\n",
    "\n",
    "# Performance\n",
    "from pymoode.performance import SpacingIndicator\n"
   ]
  },
  {
   "cell_type": "code",
   "execution_count": 15,
   "id": "09147a30",
   "metadata": {},
   "outputs": [
    {
     "ename": "NameError",
     "evalue": "name 'initial_coverage' is not defined",
     "output_type": "error",
     "traceback": [
      "\u001b[0;31m---------------------------------------------------------------------------\u001b[0m",
      "\u001b[0;31mNameError\u001b[0m                                 Traceback (most recent call last)",
      "\u001b[0;32m/tmp/ipykernel_183/2120951660.py\u001b[0m in \u001b[0;36m<module>\u001b[0;34m\u001b[0m\n\u001b[1;32m     33\u001b[0m \u001b[0;34m\u001b[0m\u001b[0m\n\u001b[1;32m     34\u001b[0m \u001b[0;31m# Define the problem\u001b[0m\u001b[0;34m\u001b[0m\u001b[0;34m\u001b[0m\u001b[0;34m\u001b[0m\u001b[0m\n\u001b[0;32m---> 35\u001b[0;31m \u001b[0mproblem\u001b[0m \u001b[0;34m=\u001b[0m \u001b[0mMyProblem\u001b[0m\u001b[0;34m(\u001b[0m\u001b[0mAREA_SIZE_X\u001b[0m\u001b[0;34m,\u001b[0m \u001b[0mNUM_DRONES\u001b[0m\u001b[0;34m,\u001b[0m \u001b[0mNUM_GENERATIONS\u001b[0m\u001b[0;34m,\u001b[0m \u001b[0mgrid_visibility\u001b[0m\u001b[0;34m,\u001b[0m \u001b[0mtarget_probabilities\u001b[0m\u001b[0;34m)\u001b[0m\u001b[0;34m\u001b[0m\u001b[0;34m\u001b[0m\u001b[0m\n\u001b[0m\u001b[1;32m     36\u001b[0m \u001b[0;34m\u001b[0m\u001b[0m\n\u001b[1;32m     37\u001b[0m \u001b[0;31m# Define the algorithm\u001b[0m\u001b[0;34m\u001b[0m\u001b[0;34m\u001b[0m\u001b[0;34m\u001b[0m\u001b[0m\n",
      "\u001b[0;32m/tmp/ipykernel_183/2120951660.py\u001b[0m in \u001b[0;36m__init__\u001b[0;34m(self, grid_size, n_drones, n_steps, grid_visibility, target_probabilities)\u001b[0m\n\u001b[1;32m      6\u001b[0m         \u001b[0mself\u001b[0m\u001b[0;34m.\u001b[0m\u001b[0mn_drones\u001b[0m \u001b[0;34m=\u001b[0m \u001b[0mn_drones\u001b[0m\u001b[0;34m\u001b[0m\u001b[0;34m\u001b[0m\u001b[0m\n\u001b[1;32m      7\u001b[0m         \u001b[0mself\u001b[0m\u001b[0;34m.\u001b[0m\u001b[0mn_steps\u001b[0m \u001b[0;34m=\u001b[0m \u001b[0mn_steps\u001b[0m\u001b[0;34m\u001b[0m\u001b[0;34m\u001b[0m\u001b[0m\n\u001b[0;32m----> 8\u001b[0;31m         \u001b[0mself\u001b[0m\u001b[0;34m.\u001b[0m\u001b[0minitial_coverage\u001b[0m \u001b[0;34m=\u001b[0m \u001b[0minitial_coverage\u001b[0m\u001b[0;34m\u001b[0m\u001b[0;34m\u001b[0m\u001b[0m\n\u001b[0m\u001b[1;32m      9\u001b[0m         \u001b[0mself\u001b[0m\u001b[0;34m.\u001b[0m\u001b[0mtarget_probabilities\u001b[0m \u001b[0;34m=\u001b[0m \u001b[0mtarget_probabilities\u001b[0m\u001b[0;34m\u001b[0m\u001b[0;34m\u001b[0m\u001b[0m\n\u001b[1;32m     10\u001b[0m \u001b[0;34m\u001b[0m\u001b[0m\n",
      "\u001b[0;31mNameError\u001b[0m: name 'initial_coverage' is not defined"
     ]
    }
   ],
   "source": [
    "class MyProblem(Problem):\n",
    "\n",
    "    def __init__(self, grid_size, n_drones, n_steps, grid_visibility, target_probabilities):\n",
    "        \n",
    "        self.grid_size = grid_size\n",
    "        self.n_drones = n_drones\n",
    "        self.n_steps = n_steps\n",
    "        self.grid_visibility = grid_visibility\n",
    "        self.target_probabilities = target_probabilities\n",
    "\n",
    "        super().__init__(\n",
    "            n_var=2, # Variables in the solutions (x,y)\n",
    "            n_obj=2, # Number of Objectives we wanna optimize\n",
    "            n_constr=0,  # No additional constraints, TODO: add no crashing into eachother\n",
    "            xl=-2.0,   #Lower boundaries of solution variables\n",
    "            xu=2.0)    #upper bounds of solution vars\n",
    "\n",
    "        #x are the waypoints\n",
    "    def _evaluate(self, x, out, *args, **kwargs):\n",
    "        \n",
    "        x_cord=int(x[0]+grid_offset)\n",
    "        y_cord=int((x[1]+grid_offset)\n",
    "                   \n",
    "        #TODO:Probability of Target, currently just distance to target\n",
    "        probability = dist = numpy.linalg.norm(x-Target_Position)\n",
    "                   \n",
    "        #Visibility of Ground: Percentage of Ground Visible from that position.\n",
    "        visibility = grid_visibility[x_cord][y_cord]\n",
    "        \n",
    "        \n",
    "        out[\"F\"] = np.column_stack([-visibility, -probability])\n",
    "\n",
    "\n",
    "# Initialize parameters\n",
    "target_probabilities = np.random.rand(AREA_SIZE_X, AREA_SIZE_Y)\n",
    "\n",
    "# Define the problem\n",
    "problem = MyProblem(AREA_SIZE_X, NUM_DRONES, NUM_GENERATIONS, grid_visibility, target_probabilities)\n",
    "\n",
    "# Define the algorithm\n",
    "algorithm = DE(\n",
    "    pop_size=50,\n",
    "    sampling=\"real_random\",\n",
    "    variant=\"DE/rand/1/bin\",\n",
    "    crossover=get_crossover(\"int_sbx\", prob=0.9, eta=15),\n",
    "    mutation=get_mutation(\"int_pm\", eta=20),\n",
    "    eliminate_duplicates=True\n",
    ")\n",
    "\n",
    "\n",
    "\n",
    "termination = get_termination(\"n_gen\", 200)\n",
    "\n",
    "result = minimize(\n",
    "    problem,\n",
    "    algorithm, \n",
    "    termination, \n",
    "    seed=1, \n",
    "    save_history=True, \n",
    "    verbose=True)\n",
    "\n",
    "best_solution = result.X[np.argmin(result.F[:, 0] + result.F[:, 1])]"
   ]
  },
  {
   "cell_type": "code",
   "execution_count": null,
   "id": "79bc8bfa",
   "metadata": {},
   "outputs": [],
   "source": [
    "finished=False\n",
    "#Drone waypoints got from -25 to 25, Array from 0 to 50\n",
    "\n",
    "while(!finished):\n",
    "    \n",
    "    #wait until all drones recieved\n",
    "    if swarm.received_frames[ids[-1]]:\n",
    "        for id in ids:\n",
    "            drone_waypoint=waypoints[id]\n",
    "            #rgb_image = swarm.rgb_images[id]\n",
    "            vis = check_ground_visibility(swarm.depth_images[id])\n",
    "            \n",
    "            x_cord=int(drone_waypoint[0]+grid_offset)\n",
    "            y_cord=int((drone_waypoint[1]+grid_offset)\n",
    "            \n",
    "            grid_visibility[x_cord][y_cord]=vis\n",
    "            #TODO: Check if target was seen, update last known position\n",
    "        break\n",
    "        \n",
    "        #Find new best waypoints\n",
    "        best_solution = result.X\n",
    "        best_fitness = result.F\n",
    "        print(\"Best Solution: {} \\n with a Score of {}\".format(best_solution,best_fitness))\n",
    "        \n",
    "        #Move Drones to best waypoints\n",
    "        current_waypoints = best_solution\n",
    "        swarm.waypoints(ids, current_waypoints)\n",
    "        \n",
    "        #Move Target-Person\n",
    "        print(\"Moving Target to {}\")"
   ]
  },
  {
   "cell_type": "code",
   "execution_count": null,
   "id": "1c2335fb",
   "metadata": {},
   "outputs": [],
   "source": []
  }
 ],
 "metadata": {
  "kernelspec": {
   "display_name": "Python 3 (ipykernel)",
   "language": "python",
   "name": "python3"
  },
  "language_info": {
   "codemirror_mode": {
    "name": "ipython",
    "version": 3
   },
   "file_extension": ".py",
   "mimetype": "text/x-python",
   "name": "python",
   "nbconvert_exporter": "python",
   "pygments_lexer": "ipython3",
   "version": "3.7.12"
  }
 },
 "nbformat": 4,
 "nbformat_minor": 5
}
