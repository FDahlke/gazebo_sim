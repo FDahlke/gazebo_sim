{
 "cells": [
  {
   "cell_type": "code",
   "execution_count": 1,
   "id": "8a86841d",
   "metadata": {},
   "outputs": [],
   "source": [
    "GRID_SIZE = 100\n",
    "half_GRID_SIZE=GRID_SIZE/2"
   ]
  },
  {
   "cell_type": "code",
   "execution_count": null,
   "id": "1a18bf0e",
   "metadata": {
    "scrolled": false
   },
   "outputs": [],
   "source": [
    "import numpy as np\n",
    "import matplotlib.pyplot as plt\n",
    "\n",
    "# Parameters\n",
    "x0, y0 = 10, 10  # Last known position\n",
    "d_max = 10       # Maximum distance the target could have traveled\n",
    "sigma = d_max / 2  # Standard deviation of the Gaussian distribution\n",
    "\n",
    "# Grid definition\n",
    "x = np.linspace(-half_GRID_SIZE, half_GRID_SIZE, GRID_SIZE)\n",
    "y = np.linspace(-half_GRID_SIZE, half_GRID_SIZE, GRID_SIZE)\n",
    "x, y = np.meshgrid(x, y)\n",
    "\n",
    "\n",
    "\n",
    "for i in range(10):\n",
    "    # Gaussian distribution calculation\n",
    "    #prob_density = (1 /  (2 * np.pi * sigma**2)) * np.exp(-((x - x0)**2 + (y - y0)**2) / (2 * sigma**2))\n",
    "    prob_density = (1 / (np.sqrt(2 * np.pi)* sigma)) * np.exp(-((x - x0)**2 + (y - y0)**2) / (2 * sigma**2))\n",
    "    # Plotting the heatmap\n",
    "    plt.figure(figsize=(4, 3))\n",
    "    plt.contourf(x, y, prob_density, levels=50, cmap='hot')\n",
    "    plt.colorbar(label='Probability Density')\n",
    "    plt.scatter([x0], [y0], color='blue', label='Last Known Position')\n",
    "    plt.show()\n",
    "    sigma=sigma+2.5\n",
    "    \n",
    "    if i==5:\n",
    "        sigma=2\n",
    "        x0, y0 = 23,16"
   ]
  },
  {
   "cell_type": "code",
   "execution_count": null,
   "id": "9051819e",
   "metadata": {},
   "outputs": [],
   "source": []
  },
  {
   "cell_type": "code",
   "execution_count": null,
   "id": "6b5b46e5",
   "metadata": {},
   "outputs": [],
   "source": []
  },
  {
   "cell_type": "code",
   "execution_count": null,
   "id": "c59e62ee",
   "metadata": {},
   "outputs": [],
   "source": []
  }
 ],
 "metadata": {
  "kernelspec": {
   "display_name": "Python 3 (ipykernel)",
   "language": "python",
   "name": "python3"
  },
  "language_info": {
   "codemirror_mode": {
    "name": "ipython",
    "version": 3
   },
   "file_extension": ".py",
   "mimetype": "text/x-python",
   "name": "python",
   "nbconvert_exporter": "python",
   "pygments_lexer": "ipython3",
   "version": "3.7.12"
  }
 },
 "nbformat": 4,
 "nbformat_minor": 5
}
